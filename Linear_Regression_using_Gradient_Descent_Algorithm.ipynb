{
  "nbformat": 4,
  "nbformat_minor": 0,
  "metadata": {
    "colab": {
      "private_outputs": true,
      "provenance": []
    },
    "kernelspec": {
      "name": "python3",
      "display_name": "Python 3"
    },
    "language_info": {
      "name": "python"
    }
  },
  "cells": [
    {
      "cell_type": "code",
      "execution_count": null,
      "metadata": {
        "id": "kqprLxMKSFgY"
      },
      "outputs": [],
      "source": [
        "import pandas as pd\n",
        "import numpy as np\n",
        "import matplotlib.pyplot as plt"
      ]
    },
    {
      "cell_type": "code",
      "source": [
        "from google.colab import files\n",
        "files.upload()"
      ],
      "metadata": {
        "id": "aT8AnfQ-SY4A"
      },
      "execution_count": null,
      "outputs": []
    },
    {
      "cell_type": "code",
      "source": [
        "df=pd.read_csv('home data.csv')"
      ],
      "metadata": {
        "id": "5KvdqamTUB8r"
      },
      "execution_count": null,
      "outputs": []
    },
    {
      "cell_type": "code",
      "source": [
        "df.head()"
      ],
      "metadata": {
        "id": "rnqjtk7pUHnF"
      },
      "execution_count": null,
      "outputs": []
    },
    {
      "cell_type": "code",
      "source": [
        "df.shape"
      ],
      "metadata": {
        "id": "6TLxDdN2UIdz"
      },
      "execution_count": null,
      "outputs": []
    },
    {
      "cell_type": "code",
      "source": [
        "x=df['x']\n",
        "y=df['y']"
      ],
      "metadata": {
        "id": "KIriiJjNUOnc"
      },
      "execution_count": null,
      "outputs": []
    },
    {
      "cell_type": "code",
      "source": [
        "x.head()"
      ],
      "metadata": {
        "id": "31ydPAV1Uq3a"
      },
      "execution_count": null,
      "outputs": []
    },
    {
      "cell_type": "markdown",
      "source": [
        "Linear Regression using Gradient Descent Algorithm"
      ],
      "metadata": {
        "id": "TwvPlvZ0U3wG"
      }
    },
    {
      "cell_type": "code",
      "source": [
        "# Initial parameters\n",
        "m = 0  # slope (weight)\n",
        "c = 0  # intercept (bias)\n",
        "learning_rate = 0.0001"
      ],
      "metadata": {
        "id": "G-pXSZjpUsSj"
      },
      "execution_count": null,
      "outputs": []
    },
    {
      "cell_type": "code",
      "source": [
        "n = len(x)  # ডেটার সংখ্যা\n",
        "iterations = 1000  # কতবার আপডেট করব\n",
        "\n",
        "for i in range(iterations):\n",
        "    y_prediction = m * x + c  # বর্তমান prediction\n",
        "\n",
        "    # Gradient (derivatives) হিসাব\n",
        "    derivatives_m = (-2/n) * sum(x * (y - y_prediction))\n",
        "    derivatives_c = (-2/n) * sum(y - y_prediction)\n",
        "\n",
        "    # Parameters আপডেট করা\n",
        "    m = m - learning_rate * derivatives_m\n",
        "    c = c - learning_rate * derivatives_c\n",
        "\n",
        "print('Final slope (m):', m)\n",
        "print('Final intercept (c):', c)\n"
      ],
      "metadata": {
        "id": "Iu3UqJw7Vexg"
      },
      "execution_count": null,
      "outputs": []
    },
    {
      "cell_type": "markdown",
      "source": [
        "**Make Prediction**"
      ],
      "metadata": {
        "id": "xJXuq4ATZmzU"
      }
    },
    {
      "cell_type": "code",
      "source": [
        "x=float(input(\"Enter any value of x:\"))"
      ],
      "metadata": {
        "id": "P9q2WxbaXPIc"
      },
      "execution_count": null,
      "outputs": []
    },
    {
      "cell_type": "code",
      "source": [
        "y_pred=m*x+c\n",
        "y_pred"
      ],
      "metadata": {
        "id": "0okvGMQOZ61c"
      },
      "execution_count": null,
      "outputs": []
    },
    {
      "cell_type": "code",
      "source": [],
      "metadata": {
        "id": "6Kf9nMZ7aC_J"
      },
      "execution_count": null,
      "outputs": []
    }
  ]
}