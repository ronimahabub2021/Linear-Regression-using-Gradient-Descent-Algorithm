{
  "nbformat": 4,
  "nbformat_minor": 0,
  "metadata": {
    "colab": {
      "private_outputs": true,
      "provenance": []
    },
    "kernelspec": {
      "name": "python3",
      "display_name": "Python 3"
    },
    "language_info": {
      "name": "python"
    }
  },
  "cells": [
    {
      "cell_type": "code",
      "execution_count": null,
      "metadata": {
        "id": "ljFc5nmo_OSa"
      },
      "outputs": [],
      "source": [
        "from google.colab import files\n",
        "files.upload()"
      ]
    },
    {
      "cell_type": "code",
      "source": [
        "#Core library\n",
        "import pandas as pd\n",
        "import numpy as np\n",
        "import matplotlib.pyplot as plt"
      ],
      "metadata": {
        "id": "23lz3NVOIJNE"
      },
      "execution_count": null,
      "outputs": []
    },
    {
      "cell_type": "code",
      "source": [
        "df=pd.read_csv('home data.csv')"
      ],
      "metadata": {
        "id": "dOHXrYoWJtJj"
      },
      "execution_count": null,
      "outputs": []
    },
    {
      "cell_type": "code",
      "source": [
        "df.head(10)"
      ],
      "metadata": {
        "id": "Z-Q061p9KN3C"
      },
      "execution_count": null,
      "outputs": []
    },
    {
      "cell_type": "code",
      "source": [
        "x=df[['x']]\n",
        "y=df[['y']]"
      ],
      "metadata": {
        "id": "GxIEFwTeKOsh"
      },
      "execution_count": null,
      "outputs": []
    },
    {
      "cell_type": "code",
      "source": [
        "x.head()"
      ],
      "metadata": {
        "id": "ncOeCW0rLoI0"
      },
      "execution_count": null,
      "outputs": []
    },
    {
      "cell_type": "code",
      "source": [
        "y.head()"
      ],
      "metadata": {
        "id": "PU9IyjPlLp3B"
      },
      "execution_count": null,
      "outputs": []
    },
    {
      "cell_type": "code",
      "source": [
        "#1st step\n",
        "m=0\n",
        "c=0\n",
        "learning_rate=0.0001"
      ],
      "metadata": {
        "id": "Sb4KS4OrLrWQ"
      },
      "execution_count": null,
      "outputs": []
    },
    {
      "cell_type": "code",
      "source": [
        "#2nd step\n",
        "n=int(len(x))\n",
        "iterations=1000\n",
        "for i in range(iterations):\n",
        "  y_prediction=m*x+c\n",
        "  derivatives_m=(-2/n)*sum(x*(y-y_prediction))\n",
        "  derivatives_c=(-2/n)*sum(y-y_prediction)\n",
        "  m=m-learning_rate*derivatives_m\n",
        "  c=c-learning_rate*derivatives_c\n",
        "print('value of m:',m)\n",
        "print('value of c:',c)"
      ],
      "metadata": {
        "id": "XuwmMmBBMmvC"
      },
      "execution_count": null,
      "outputs": []
    },
    {
      "cell_type": "code",
      "source": [
        "x_pre=float(input('enter any value of x:'))"
      ],
      "metadata": {
        "id": "EwOvYqLTPr_p"
      },
      "execution_count": null,
      "outputs": []
    },
    {
      "cell_type": "code",
      "source": [
        "y_predict=m*x_pre+c\n",
        "y_predict"
      ],
      "metadata": {
        "id": "z856TePjOjFU"
      },
      "execution_count": null,
      "outputs": []
    },
    {
      "cell_type": "code",
      "source": [
        "from sklearn.linear_model import LinearRegression"
      ],
      "metadata": {
        "id": "3EI0xyAaQQX0"
      },
      "execution_count": null,
      "outputs": []
    },
    {
      "cell_type": "code",
      "source": [
        "model=LinearRegression()"
      ],
      "metadata": {
        "id": "nuKzmn6YTgjT"
      },
      "execution_count": null,
      "outputs": []
    },
    {
      "cell_type": "code",
      "source": [
        "model.fit(x,y)"
      ],
      "metadata": {
        "id": "AYoLzmSITlVQ"
      },
      "execution_count": null,
      "outputs": []
    },
    {
      "cell_type": "code",
      "source": [
        "model.predict([[38.816818]])"
      ],
      "metadata": {
        "id": "Z8cba5bWTnGw"
      },
      "execution_count": null,
      "outputs": []
    },
    {
      "cell_type": "code",
      "source": [],
      "metadata": {
        "id": "5OEgnLm9UB__"
      },
      "execution_count": null,
      "outputs": []
    }
  ]
}